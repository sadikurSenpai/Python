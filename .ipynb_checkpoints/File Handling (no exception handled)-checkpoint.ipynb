{
 "cells": [
  {
   "cell_type": "markdown",
   "id": "be304b1c",
   "metadata": {},
   "source": [
    "### Checking that the path is a file or not"
   ]
  },
  {
   "cell_type": "code",
   "execution_count": 1,
   "id": "1c5b625d",
   "metadata": {},
   "outputs": [
    {
     "name": "stdout",
     "output_type": "stream",
     "text": [
      "This is a file\n"
     ]
    }
   ],
   "source": [
    "import os\n",
    "\n",
    "my_path = \"D:\\\\New Folder\\\\test.txt\"\n",
    "\n",
    "if os.path.exists(my_path):\n",
    "    if os.path.isdir(my_path):\n",
    "        print(\"This is a directory\")\n",
    "    else:\n",
    "        print(\"This is a file\")\n",
    "   \n",
    "else:\n",
    "    print(\"This location doesn't exists !\")"
   ]
  },
  {
   "cell_type": "markdown",
   "id": "1df56813",
   "metadata": {},
   "source": [
    "### Read a file"
   ]
  },
  {
   "cell_type": "code",
   "execution_count": 2,
   "id": "7840194a",
   "metadata": {},
   "outputs": [
    {
     "name": "stdout",
     "output_type": "stream",
     "text": [
      "Hi there !\n",
      "How are you?\n"
     ]
    }
   ],
   "source": [
    "my_path = \"D:\\\\New Folder\\\\test.txt\"\n",
    "with open(my_path,'r') as file:\n",
    "    print(file.read())"
   ]
  },
  {
   "cell_type": "markdown",
   "id": "785e1f9e",
   "metadata": {},
   "source": [
    "### Read a file line by line"
   ]
  },
  {
   "cell_type": "code",
   "execution_count": 3,
   "id": "c1f42d6c",
   "metadata": {},
   "outputs": [
    {
     "name": "stdout",
     "output_type": "stream",
     "text": [
      "Hi there !\n",
      "How are you?\n"
     ]
    }
   ],
   "source": [
    "my_path = \"D:\\\\New Folder\\\\test.txt\"\n",
    "with open(my_path,'r') as file:\n",
    "    for line in file:\n",
    "        print(line.strip())"
   ]
  },
  {
   "cell_type": "markdown",
   "id": "12bfecd9",
   "metadata": {},
   "source": [
    "### Write to a file"
   ]
  },
  {
   "cell_type": "code",
   "execution_count": 4,
   "id": "555bbb5d",
   "metadata": {},
   "outputs": [
    {
     "name": "stdout",
     "output_type": "stream",
     "text": [
      "New text\n"
     ]
    }
   ],
   "source": [
    "my_path = \"D:\\\\New Folder\\\\test.txt\"\n",
    "with open(my_path,'w') as file:     \n",
    "    file.write(\"New text\")\n",
    "\n",
    "with open(my_path,'r') as file:\n",
    "    print(file.read())"
   ]
  },
  {
   "cell_type": "markdown",
   "id": "8887ecd4",
   "metadata": {},
   "source": [
    "### Append to a file"
   ]
  },
  {
   "cell_type": "code",
   "execution_count": 5,
   "id": "5b83c5e3",
   "metadata": {},
   "outputs": [
    {
     "name": "stdout",
     "output_type": "stream",
     "text": [
      "New text\n",
      "New appended text\n"
     ]
    }
   ],
   "source": [
    "my_path = \"D:\\\\New Folder\\\\test.txt\"\n",
    "with open(my_path,'a') as file:     \n",
    "    file.write(\"\\nNew appended text\")\n",
    "\n",
    "with open(my_path,'r') as file:\n",
    "    print(file.read())"
   ]
  },
  {
   "cell_type": "markdown",
   "id": "b9145a46",
   "metadata": {},
   "source": [
    "### Copy a file"
   ]
  },
  {
   "cell_type": "code",
   "execution_count": 6,
   "id": "a12e3e33",
   "metadata": {},
   "outputs": [
    {
     "data": {
      "text/plain": [
       "'D:\\\\New Folder\\\\test1.txt'"
      ]
     },
     "execution_count": 6,
     "metadata": {},
     "output_type": "execute_result"
    }
   ],
   "source": [
    "import shutil\n",
    "my_path = \"D:\\\\New Folder\\\\test.txt\"\n",
    "new_path = \"D:\\\\New Folder\\\\test1.txt\"\n",
    "shutil.copy(my_path,new_path)"
   ]
  },
  {
   "cell_type": "markdown",
   "id": "3c1d5dfd",
   "metadata": {},
   "source": [
    "### Delete a file"
   ]
  },
  {
   "cell_type": "code",
   "execution_count": 7,
   "id": "ec22a978",
   "metadata": {},
   "outputs": [],
   "source": [
    "import os\n",
    "os.remove(my_path)"
   ]
  },
  {
   "cell_type": "code",
   "execution_count": null,
   "id": "7ed5833d",
   "metadata": {},
   "outputs": [],
   "source": [
    "import os\n",
    "\n",
    "path=\"D:\\\\Operating System\\\\fahim.txt\"\n",
    "os.path."
   ]
  }
 ],
 "metadata": {
  "kernelspec": {
   "display_name": "Python 3 (ipykernel)",
   "language": "python",
   "name": "python3"
  },
  "language_info": {
   "codemirror_mode": {
    "name": "ipython",
    "version": 3
   },
   "file_extension": ".py",
   "mimetype": "text/x-python",
   "name": "python",
   "nbconvert_exporter": "python",
   "pygments_lexer": "ipython3",
   "version": "3.11.5"
  }
 },
 "nbformat": 4,
 "nbformat_minor": 5
}
