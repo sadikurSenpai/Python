{
 "cells": [
  {
   "cell_type": "markdown",
   "id": "be304b1c",
   "metadata": {},
   "source": [
    "### Checking that the path is a file or not"
   ]
  },
  {
   "cell_type": "code",
   "execution_count": 1,
   "id": "1c5b625d",
   "metadata": {},
   "outputs": [
    {
     "name": "stdout",
     "output_type": "stream",
     "text": [
      "This is a file\n"
     ]
    }
   ],
   "source": [
    "import os\n",
    "\n",
    "my_path = \"D:\\\\New Folder\\\\test.txt\"\n",
    "\n",
    "if os.path.exists(my_path):\n",
    "    if os.path.isdir(my_path):\n",
    "        print(\"This is a directory\")\n",
    "    else:\n",
    "        print(\"This is a file\")\n",
    "   \n",
    "else:\n",
    "    print(\"This location doesn't exists !\")"
   ]
  },
  {
   "cell_type": "markdown",
   "id": "1df56813",
   "metadata": {},
   "source": [
    "### Read a file"
   ]
  },
  {
   "cell_type": "code",
   "execution_count": 2,
   "id": "7840194a",
   "metadata": {},
   "outputs": [
    {
     "name": "stdout",
     "output_type": "stream",
     "text": [
      "Hi there !\n",
      "How are you?\n"
     ]
    }
   ],
   "source": [
    "my_path = \"D:\\\\New Folder\\\\test.txt\"\n",
    "with open(my_path,'r') as file:\n",
    "    print(file.read())"
   ]
  },
  {
   "cell_type": "markdown",
   "id": "785e1f9e",
   "metadata": {},
   "source": [
    "### Read a file line by line"
   ]
  },
  {
   "cell_type": "code",
   "execution_count": 3,
   "id": "c1f42d6c",
   "metadata": {},
   "outputs": [
    {
     "name": "stdout",
     "output_type": "stream",
     "text": [
      "Hi there !\n",
      "How are you?\n"
     ]
    }
   ],
   "source": [
    "my_path = \"D:\\\\New Folder\\\\test.txt\"\n",
    "with open(my_path,'r') as file:\n",
    "    for line in file:\n",
    "        print(line.strip())"
   ]
  },
  {
   "cell_type": "markdown",
   "id": "12bfecd9",
   "metadata": {},
   "source": [
    "### Write to a file"
   ]
  },
  {
   "cell_type": "code",
   "execution_count": 4,
   "id": "555bbb5d",
   "metadata": {},
   "outputs": [
    {
     "name": "stdout",
     "output_type": "stream",
     "text": [
      "New text\n"
     ]
    }
   ],
   "source": [
    "my_path = \"D:\\\\New Folder\\\\test.txt\"\n",
    "with open(my_path,'w') as file:     \n",
    "    file.write(\"New text\")\n",
    "\n",
    "with open(my_path,'r') as file:\n",
    "    print(file.read())"
   ]
  },
  {
   "cell_type": "markdown",
   "id": "8887ecd4",
   "metadata": {},
   "source": [
    "### Append to a file"
   ]
  },
  {
   "cell_type": "code",
   "execution_count": 5,
   "id": "5b83c5e3",
   "metadata": {},
   "outputs": [
    {
     "name": "stdout",
     "output_type": "stream",
     "text": [
      "New text\n",
      "New appended text\n"
     ]
    }
   ],
   "source": [
    "my_path = \"D:\\\\New Folder\\\\test.txt\"\n",
    "with open(my_path,'a') as file:     \n",
    "    file.write(\"\\nNew appended text\")\n",
    "\n",
    "with open(my_path,'r') as file:\n",
    "    print(file.read())"
   ]
  },
  {
   "cell_type": "markdown",
   "id": "b9145a46",
   "metadata": {},
   "source": [
    "### Copy a file"
   ]
  },
  {
   "cell_type": "code",
   "execution_count": 6,
   "id": "a12e3e33",
   "metadata": {},
   "outputs": [
    {
     "data": {
      "text/plain": [
       "'D:\\\\New Folder\\\\test1.txt'"
      ]
     },
     "execution_count": 6,
     "metadata": {},
     "output_type": "execute_result"
    }
   ],
   "source": [
    "import shutil\n",
    "my_path = \"D:\\\\New Folder\\\\test.txt\"\n",
    "new_path = \"D:\\\\New Folder\\\\test1.txt\"\n",
    "shutil.copy(my_path,new_path)"
   ]
  },
  {
   "cell_type": "markdown",
   "id": "3c1d5dfd",
   "metadata": {},
   "source": [
    "### Delete a file"
   ]
  },
  {
   "cell_type": "code",
   "execution_count": 7,
   "id": "ec22a978",
   "metadata": {},
   "outputs": [],
   "source": [
    "import os\n",
    "os.remove(my_path)"
   ]
  },
  {
   "cell_type": "markdown",
   "id": "5d3e70e8",
   "metadata": {},
   "source": [
    "### Practice"
   ]
  },
  {
   "cell_type": "code",
   "execution_count": 3,
   "id": "7ed5833d",
   "metadata": {},
   "outputs": [
    {
     "name": "stdout",
     "output_type": "stream",
     "text": [
      "This is not a file\n"
     ]
    }
   ],
   "source": [
    "import os\n",
    "\n",
    "paths=\"D:\\\\Operating System\\\\Final Notes\"\n",
    "if os.path.exists(paths):\n",
    "    if os.path.isfile(paths):\n",
    "        with open(paths,'r') as file:\n",
    "            print(file.read())\n",
    "    else:\n",
    "        print(\"This is not a file\")\n",
    "else:\n",
    "    print(\"The location is INVALID\")"
   ]
  },
  {
   "cell_type": "code",
   "execution_count": 6,
   "id": "d01c287a",
   "metadata": {},
   "outputs": [
    {
     "name": "stdout",
     "output_type": "stream",
     "text": [
      "Enter Your Name >>: Sadik\n",
      "Enter Your Email >>: sadikursiam786@gmail.com\n"
     ]
    },
    {
     "ename": "SMTPAuthenticationError",
     "evalue": "(535, b'5.7.8 Username and Password not accepted. For more information, go to\\n5.7.8  https://support.google.com/mail/?p=BadCredentials w20-20020aa78594000000b006e046c04b81sm1507373pfn.147 - gsmtp')",
     "output_type": "error",
     "traceback": [
      "\u001b[1;31m---------------------------------------------------------------------------\u001b[0m",
      "\u001b[1;31mSMTPAuthenticationError\u001b[0m                   Traceback (most recent call last)",
      "Cell \u001b[1;32mIn[6], line 16\u001b[0m\n\u001b[0;32m     13\u001b[0m     s\u001b[38;5;241m.\u001b[39msendmail(\u001b[38;5;124m'\u001b[39m\u001b[38;5;124m&&&&&&&&&&&\u001b[39m\u001b[38;5;124m'\u001b[39m, email, message)\n\u001b[0;32m     14\u001b[0m     \u001b[38;5;28mprint\u001b[39m(\u001b[38;5;124m\"\u001b[39m\u001b[38;5;124mEmail Sent!\u001b[39m\u001b[38;5;124m\"\u001b[39m)\n\u001b[1;32m---> 16\u001b[0m automatic_email()\n",
      "Cell \u001b[1;32mIn[6], line 12\u001b[0m, in \u001b[0;36mautomatic_email\u001b[1;34m()\u001b[0m\n\u001b[0;32m     10\u001b[0m s \u001b[38;5;241m=\u001b[39m smtplib\u001b[38;5;241m.\u001b[39mSMTP(\u001b[38;5;124m'\u001b[39m\u001b[38;5;124msmtp.gmail.com\u001b[39m\u001b[38;5;124m'\u001b[39m, \u001b[38;5;241m587\u001b[39m)\n\u001b[0;32m     11\u001b[0m s\u001b[38;5;241m.\u001b[39mstarttls()\n\u001b[1;32m---> 12\u001b[0m s\u001b[38;5;241m.\u001b[39mlogin(\u001b[38;5;124m\"\u001b[39m\u001b[38;5;124mYour Gmail Account\u001b[39m\u001b[38;5;124m\"\u001b[39m, \u001b[38;5;124m\"\u001b[39m\u001b[38;5;124mYour App Password\u001b[39m\u001b[38;5;124m\"\u001b[39m)\n\u001b[0;32m     13\u001b[0m s\u001b[38;5;241m.\u001b[39msendmail(\u001b[38;5;124m'\u001b[39m\u001b[38;5;124m&&&&&&&&&&&\u001b[39m\u001b[38;5;124m'\u001b[39m, email, message)\n\u001b[0;32m     14\u001b[0m \u001b[38;5;28mprint\u001b[39m(\u001b[38;5;124m\"\u001b[39m\u001b[38;5;124mEmail Sent!\u001b[39m\u001b[38;5;124m\"\u001b[39m)\n",
      "File \u001b[1;32m~\\anaconda3\\Lib\\smtplib.py:750\u001b[0m, in \u001b[0;36mSMTP.login\u001b[1;34m(self, user, password, initial_response_ok)\u001b[0m\n\u001b[0;32m    747\u001b[0m         last_exception \u001b[38;5;241m=\u001b[39m e\n\u001b[0;32m    749\u001b[0m \u001b[38;5;66;03m# We could not login successfully.  Return result of last attempt.\u001b[39;00m\n\u001b[1;32m--> 750\u001b[0m \u001b[38;5;28;01mraise\u001b[39;00m last_exception\n",
      "File \u001b[1;32m~\\anaconda3\\Lib\\smtplib.py:739\u001b[0m, in \u001b[0;36mSMTP.login\u001b[1;34m(self, user, password, initial_response_ok)\u001b[0m\n\u001b[0;32m    737\u001b[0m method_name \u001b[38;5;241m=\u001b[39m \u001b[38;5;124m'\u001b[39m\u001b[38;5;124mauth_\u001b[39m\u001b[38;5;124m'\u001b[39m \u001b[38;5;241m+\u001b[39m authmethod\u001b[38;5;241m.\u001b[39mlower()\u001b[38;5;241m.\u001b[39mreplace(\u001b[38;5;124m'\u001b[39m\u001b[38;5;124m-\u001b[39m\u001b[38;5;124m'\u001b[39m, \u001b[38;5;124m'\u001b[39m\u001b[38;5;124m_\u001b[39m\u001b[38;5;124m'\u001b[39m)\n\u001b[0;32m    738\u001b[0m \u001b[38;5;28;01mtry\u001b[39;00m:\n\u001b[1;32m--> 739\u001b[0m     (code, resp) \u001b[38;5;241m=\u001b[39m \u001b[38;5;28mself\u001b[39m\u001b[38;5;241m.\u001b[39mauth(\n\u001b[0;32m    740\u001b[0m         authmethod, \u001b[38;5;28mgetattr\u001b[39m(\u001b[38;5;28mself\u001b[39m, method_name),\n\u001b[0;32m    741\u001b[0m         initial_response_ok\u001b[38;5;241m=\u001b[39minitial_response_ok)\n\u001b[0;32m    742\u001b[0m     \u001b[38;5;66;03m# 235 == 'Authentication successful'\u001b[39;00m\n\u001b[0;32m    743\u001b[0m     \u001b[38;5;66;03m# 503 == 'Error: already authenticated'\u001b[39;00m\n\u001b[0;32m    744\u001b[0m     \u001b[38;5;28;01mif\u001b[39;00m code \u001b[38;5;129;01min\u001b[39;00m (\u001b[38;5;241m235\u001b[39m, \u001b[38;5;241m503\u001b[39m):\n",
      "File \u001b[1;32m~\\anaconda3\\Lib\\smtplib.py:662\u001b[0m, in \u001b[0;36mSMTP.auth\u001b[1;34m(self, mechanism, authobject, initial_response_ok)\u001b[0m\n\u001b[0;32m    660\u001b[0m \u001b[38;5;28;01mif\u001b[39;00m code \u001b[38;5;129;01min\u001b[39;00m (\u001b[38;5;241m235\u001b[39m, \u001b[38;5;241m503\u001b[39m):\n\u001b[0;32m    661\u001b[0m     \u001b[38;5;28;01mreturn\u001b[39;00m (code, resp)\n\u001b[1;32m--> 662\u001b[0m \u001b[38;5;28;01mraise\u001b[39;00m SMTPAuthenticationError(code, resp)\n",
      "\u001b[1;31mSMTPAuthenticationError\u001b[0m: (535, b'5.7.8 Username and Password not accepted. For more information, go to\\n5.7.8  https://support.google.com/mail/?p=BadCredentials w20-20020aa78594000000b006e046c04b81sm1507373pfn.147 - gsmtp')"
     ]
    }
   ],
   "source": []
  },
  {
   "cell_type": "code",
   "execution_count": null,
   "id": "ccdfe29c",
   "metadata": {},
   "outputs": [],
   "source": []
  }
 ],
 "metadata": {
  "kernelspec": {
   "display_name": "Python 3 (ipykernel)",
   "language": "python",
   "name": "python3"
  },
  "language_info": {
   "codemirror_mode": {
    "name": "ipython",
    "version": 3
   },
   "file_extension": ".py",
   "mimetype": "text/x-python",
   "name": "python",
   "nbconvert_exporter": "python",
   "pygments_lexer": "ipython3",
   "version": "3.11.5"
  }
 },
 "nbformat": 4,
 "nbformat_minor": 5
}
