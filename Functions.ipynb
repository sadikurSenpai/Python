{
 "cells": [
  {
   "cell_type": "code",
   "execution_count": 1,
   "id": "b139b1fb",
   "metadata": {},
   "outputs": [
    {
     "name": "stdout",
     "output_type": "stream",
     "text": [
      "Enter person's name : Sadikur\n",
      "happy bday Sadikur\n",
      "Happy Birthday Sadikur\n"
     ]
    }
   ],
   "source": [
    "def wish_birthday(name,birthday_msg=\"Happy Birthday\"):  # we can set the parameter's value default by this technique\n",
    "    print(f\"{birthday_msg} {name}\")\n",
    "\n",
    "name = input(\"Enter person's name : \")\n",
    "wish_birthday(name, \"happy bday\")\n",
    "wish_birthday(name)"
   ]
  },
  {
   "cell_type": "code",
   "execution_count": 2,
   "id": "a3f26ace",
   "metadata": {},
   "outputs": [
    {
     "name": "stdout",
     "output_type": "stream",
     "text": [
      "Enter the first number : 2\n",
      "Enter the second number : 4\n",
      "8\n"
     ]
    }
   ],
   "source": [
    "def multiply(x, y):                           # function with return\n",
    "    return (int(x)*int(y))\n",
    "first_number = input(\"Enter the first number : \")\n",
    "second_number = input(\"Enter the second number : \")\n",
    "print(multiply(first_number, second_number))"
   ]
  },
  {
   "cell_type": "code",
   "execution_count": 3,
   "id": "9985ee46",
   "metadata": {},
   "outputs": [
    {
     "name": "stdout",
     "output_type": "stream",
     "text": [
      "we can see these (1, 2, 3, 4, 5) are received as a TUPLE\n",
      "120\n"
     ]
    }
   ],
   "source": [
    "def multiply_(*numbers):           # we can write the parameter with a * if there are a variable number of arguments\n",
    "    print(f\"we can see these {numbers} are received as a TUPLE\")\n",
    "    res = 1\n",
    "    for number in numbers:\n",
    "        res *= number\n",
    "    return res\n",
    "print(multiply_(1,2,3,4,5))"
   ]
  },
  {
   "cell_type": "code",
   "execution_count": 10,
   "id": "882d1263",
   "metadata": {},
   "outputs": [
    {
     "name": "stdout",
     "output_type": "stream",
     "text": [
      "we can see these {'name': 'BMW', 'price': 30000000} are received as a DICTIONARY\n",
      "('name', 'BMW')\n",
      "('price', 30000000)\n"
     ]
    }
   ],
   "source": [
    "def car(**details):\n",
    "    print(f\"we can see these {details} are received as a DICTIONARY\")\n",
    "    for attriute in details.items():\n",
    "        print(attriute)\n",
    "car(name='BMW',price=30000000)"
   ]
  },
  {
   "cell_type": "code",
   "execution_count": null,
   "id": "71d440df",
   "metadata": {},
   "outputs": [],
   "source": []
  }
 ],
 "metadata": {
  "kernelspec": {
   "display_name": "Python 3 (ipykernel)",
   "language": "python",
   "name": "python3"
  },
  "language_info": {
   "codemirror_mode": {
    "name": "ipython",
    "version": 3
   },
   "file_extension": ".py",
   "mimetype": "text/x-python",
   "name": "python",
   "nbconvert_exporter": "python",
   "pygments_lexer": "ipython3",
   "version": "3.11.5"
  }
 },
 "nbformat": 4,
 "nbformat_minor": 5
}
