{
 "cells": [
  {
   "cell_type": "code",
   "execution_count": 13,
   "id": "4b9fa706",
   "metadata": {},
   "outputs": [
    {
     "name": "stdout",
     "output_type": "stream",
     "text": [
      "3\n"
     ]
    }
   ],
   "source": [
    "import random          # importing random module {module means it consists different function in it \n",
    "                       #and by importing it you can use them all}\n",
    "num = random.randint(1,5) # randint is for generating random integer values within a range\n",
    "print(num)"
   ]
  },
  {
   "cell_type": "code",
   "execution_count": 21,
   "id": "3186b422",
   "metadata": {},
   "outputs": [
    {
     "name": "stdout",
     "output_type": "stream",
     "text": [
      "0.6928998295231263\n"
     ]
    }
   ],
   "source": [
    "num = random.random()    # random() is for generating random float values within 0 and 1\n",
    "print(num)"
   ]
  },
  {
   "cell_type": "code",
   "execution_count": 31,
   "id": "120abfeb",
   "metadata": {},
   "outputs": [
    {
     "name": "stdout",
     "output_type": "stream",
     "text": [
      "D\n",
      "B\n"
     ]
    }
   ],
   "source": [
    "choices = (\"A\",\"B\",\"C\",\"D\")          # choice() can choose any of the items in the list/ tuple\n",
    "availables = [\"A\",\"B\",\"C\",\"D\"]\n",
    "\n",
    "print(random.choice(choices))\n",
    "print(random.choice(availables))"
   ]
  },
  {
   "cell_type": "markdown",
   "id": "da7dd03b",
   "metadata": {},
   "source": [
    "## Guess the number"
   ]
  },
  {
   "cell_type": "code",
   "execution_count": 32,
   "id": "41a457c1",
   "metadata": {},
   "outputs": [
    {
     "name": "stdout",
     "output_type": "stream",
     "text": [
      "Guess a number between (1 - 100) : 45\n",
      "Try generating a greater number !\n",
      "Guess a number between (1 - 100) : 67\n",
      "Try generating a greater number !\n",
      "Guess a number between (1 - 100) : 89\n",
      "Try generating a smaller number !\n",
      "Guess a number between (1 - 100) : 71\n",
      "Try generating a greater number !\n",
      "Guess a number between (1 - 100) : 77\n",
      "Try generating a greater number !\n",
      "Guess a number between (1 - 100) : 83\n",
      "Try generating a greater number !\n",
      "Guess a number between (1 - 100) : 86\n",
      "Correct guess !!!\n",
      "You took 7 rounds to guess the number correct.\n"
     ]
    }
   ],
   "source": [
    "import random\n",
    "low = 1\n",
    "high = 100\n",
    "guesses = 0\n",
    "num = random.randint(low, high)       # generating a random number between a range which will be our target number to guess \n",
    "\n",
    "while True:\n",
    "    guess = int(input(f\"Guess a number between ({low} - {high}) : \"))\n",
    "    guesses +=1      # whatever the input is, correct or not the round to guess the correct number would increament\n",
    "    if guess < num:\n",
    "        print(\"Try generating a greater number !\")       # giving hints to the user about his guess\n",
    "    elif guess > num:\n",
    "        print(\"Try generating a smaller number !\")\n",
    "    else:\n",
    "        print(\"Correct guess !!!\")\n",
    "        break\n",
    "print(f\"You took {guesses} rounds to guess the number correct.\")   "
   ]
  },
  {
   "cell_type": "code",
   "execution_count": null,
   "id": "dc8ba2fc",
   "metadata": {},
   "outputs": [],
   "source": []
  }
 ],
 "metadata": {
  "kernelspec": {
   "display_name": "Python 3 (ipykernel)",
   "language": "python",
   "name": "python3"
  },
  "language_info": {
   "codemirror_mode": {
    "name": "ipython",
    "version": 3
   },
   "file_extension": ".py",
   "mimetype": "text/x-python",
   "name": "python",
   "nbconvert_exporter": "python",
   "pygments_lexer": "ipython3",
   "version": "3.11.5"
  }
 },
 "nbformat": 4,
 "nbformat_minor": 5
}
