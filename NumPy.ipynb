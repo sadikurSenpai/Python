{
 "cells": [
  {
   "cell_type": "markdown",
   "id": "8a2287ec",
   "metadata": {},
   "source": [
    "## Importing numpy library and doing basic array operations"
   ]
  },
  {
   "cell_type": "code",
   "execution_count": 2,
   "id": "04e8f168",
   "metadata": {},
   "outputs": [],
   "source": [
    "import numpy as np"
   ]
  },
  {
   "cell_type": "code",
   "execution_count": 1,
   "id": "b9408c1b",
   "metadata": {},
   "outputs": [
    {
     "name": "stdout",
     "output_type": "stream",
     "text": [
      "[10 20 30]\n"
     ]
    }
   ],
   "source": [
    "a = np.array([10,20,30])  # this is one dimensional\n",
    "print(a)"
   ]
  },
  {
   "cell_type": "code",
   "execution_count": 2,
   "id": "4c92340c",
   "metadata": {},
   "outputs": [
    {
     "name": "stdout",
     "output_type": "stream",
     "text": [
      "int32\n"
     ]
    }
   ],
   "source": [
    "print(a.dtype)   # printing datatype"
   ]
  },
  {
   "cell_type": "code",
   "execution_count": 3,
   "id": "f78eb606",
   "metadata": {},
   "outputs": [
    {
     "name": "stdout",
     "output_type": "stream",
     "text": [
      "1\n"
     ]
    }
   ],
   "source": [
    "print(a.ndim)   # printing dimension"
   ]
  },
  {
   "cell_type": "code",
   "execution_count": 4,
   "id": "e35726ae",
   "metadata": {},
   "outputs": [
    {
     "name": "stdout",
     "output_type": "stream",
     "text": [
      "[[10 20]\n",
      " [30 40]]\n",
      "2\n"
     ]
    }
   ],
   "source": [
    "a = np.array( [ [10,20], [30,40] ] ) # initializing two dimensional array\n",
    "print(a)\n",
    "print(a.ndim)"
   ]
  },
  {
   "cell_type": "code",
   "execution_count": 5,
   "id": "f304e3dc",
   "metadata": {},
   "outputs": [
    {
     "name": "stdout",
     "output_type": "stream",
     "text": [
      "4\n"
     ]
    }
   ],
   "source": [
    "print(a.itemsize)  # printing the size of the elements of the array"
   ]
  },
  {
   "cell_type": "code",
   "execution_count": 6,
   "id": "6fdf2639",
   "metadata": {},
   "outputs": [
    {
     "name": "stdout",
     "output_type": "stream",
     "text": [
      "[[10. 20.]\n",
      " [30. 40.]]\n",
      "8\n"
     ]
    }
   ],
   "source": [
    "a = np.array( a, dtype = np.float64 )  # changing datatype of the elements\n",
    "print(a)\n",
    "print(a.itemsize)  # float is 8 bytes"
   ]
  },
  {
   "cell_type": "code",
   "execution_count": 15,
   "id": "5bdd0b64",
   "metadata": {
    "scrolled": true
   },
   "outputs": [
    {
     "name": "stdout",
     "output_type": "stream",
     "text": [
      "float64\n",
      "[('name', '<U10'), ('age', '<i4')]\n"
     ]
    }
   ],
   "source": [
    "# Homogeneous array with elements of different types\n",
    "arr1 = np.array([1, 2.5, 3])\n",
    "print(arr1.dtype)  # Result: float64 (all elements are promoted to float)\n",
    "\n",
    "# Structured array with elements of different types\n",
    "arr2 = np.array([('Alice', 25), ('Bob', 30)], dtype=[('name', 'U10'), ('age', int)])\n",
    "print(arr2.dtype)  # Result: [('name', '<U10'), ('age', '<i8')]"
   ]
  },
  {
   "cell_type": "code",
   "execution_count": null,
   "id": "3f8ba033",
   "metadata": {},
   "outputs": [],
   "source": [
    "''' Yes, NumPy arrays can indeed contain elements of multiple data types. However, there are a few important points to consider:\n",
    "\n",
    "Homogeneous vs. Heterogeneous Arrays:\n",
    "\n",
    "By default, NumPy arrays are homogeneous, meaning all elements in the array have the same data type. This is efficient for numerical computations because NumPy can optimize memory usage and computation speed.\n",
    "If you attempt to create an array with elements of different data types, NumPy will automatically promote all elements to a common data type, resulting in a homogeneous array.\n",
    "Structured Arrays:\n",
    "\n",
    "NumPy also provides structured arrays, which allow you to define arrays with elements of different data types in a structured way, similar to a database table or a spreadsheet.\n",
    "Structured arrays are useful for handling heterogeneous data, such as structured datasets with different types of information (e.g., names, ages, and heights).\n",
    "Here's a brief example of how you can create arrays with elements of multiple data types:\n",
    "In this example:\n",
    "\n",
    "arr1 is a homogeneous array with elements [1, 2.5, 3]. Since it contains both integers and floats, NumPy automatically promotes all elements to the common data type float64.\n",
    "arr2 is a structured array with elements [(Alice, 25), (Bob, 30)]. The dtype parameter specifies the data types of the structured array's fields. In this case, 'U10' represents Unicode strings of maximum length 10 (name), and int represents integers (age).'''"
   ]
  },
  {
   "cell_type": "code",
   "execution_count": 7,
   "id": "c9758c62",
   "metadata": {},
   "outputs": [
    {
     "name": "stdout",
     "output_type": "stream",
     "text": [
      "4\n",
      "[10. 20.]\n",
      "10.0\n",
      "40.0\n"
     ]
    }
   ],
   "source": [
    "print(a.size)\n",
    "print(a[0])\n",
    "print(a[0][0])\n",
    "print(a[1][1])"
   ]
  },
  {
   "cell_type": "code",
   "execution_count": 8,
   "id": "99bed15e",
   "metadata": {},
   "outputs": [
    {
     "name": "stdout",
     "output_type": "stream",
     "text": [
      "(2, 2)\n"
     ]
    }
   ],
   "source": [
    "print(a.shape)"
   ]
  },
  {
   "cell_type": "code",
   "execution_count": 9,
   "id": "7fc8bd84",
   "metadata": {},
   "outputs": [
    {
     "name": "stdout",
     "output_type": "stream",
     "text": [
      "[[10 20]\n",
      " [30 40]\n",
      " [50 60]]\n",
      "(3, 2)\n"
     ]
    }
   ],
   "source": [
    "a = np.array([ [10,20], [30,40], [50,60] ])\n",
    "print(a)\n",
    "print(a.shape)    # shape prints the row-column"
   ]
  },
  {
   "cell_type": "code",
   "execution_count": 15,
   "id": "51ea9408",
   "metadata": {},
   "outputs": [
    {
     "name": "stdout",
     "output_type": "stream",
     "text": [
      "[[10 20 30 40 50 60]]\n",
      "[[10 20]\n",
      " [30 40]\n",
      " [50 60]]\n",
      "[10 20 30 40 50 60]\n",
      "[[10 20]\n",
      " [30 40]\n",
      " [50 60]]\n"
     ]
    }
   ],
   "source": [
    "# these methods don't actually change anything in the array, it just display as we want\n",
    "print(a.reshape(1,6))  # using reshape method we can reshape the row column as we want but it have to fit into that\n",
    "print(a)\n",
    "print(a.ravel())  # ravel prints any type of array into one dimensional array\n",
    "print(a)"
   ]
  },
  {
   "cell_type": "code",
   "execution_count": 11,
   "id": "7167a8e1",
   "metadata": {},
   "outputs": [
    {
     "ename": "ValueError",
     "evalue": "cannot reshape array of size 6 into shape (4,2)",
     "output_type": "error",
     "traceback": [
      "\u001b[1;31m---------------------------------------------------------------------------\u001b[0m",
      "\u001b[1;31mValueError\u001b[0m                                Traceback (most recent call last)",
      "Cell \u001b[1;32mIn[11], line 1\u001b[0m\n\u001b[1;32m----> 1\u001b[0m a\u001b[38;5;241m.\u001b[39mreshape(\u001b[38;5;241m4\u001b[39m,\u001b[38;5;241m2\u001b[39m)\n",
      "\u001b[1;31mValueError\u001b[0m: cannot reshape array of size 6 into shape (4,2)"
     ]
    }
   ],
   "source": [
    "a.reshape(4,2)"
   ]
  },
  {
   "cell_type": "code",
   "execution_count": 10,
   "id": "2947cfea",
   "metadata": {},
   "outputs": [
    {
     "name": "stdout",
     "output_type": "stream",
     "text": [
      "[[0. 0.]\n",
      " [0. 0.]\n",
      " [0. 0.]]\n"
     ]
    }
   ],
   "source": [
    "a = np.zeros( (3,2) )   \n",
    "print(a)"
   ]
  },
  {
   "cell_type": "code",
   "execution_count": 11,
   "id": "1e91bb76",
   "metadata": {},
   "outputs": [
    {
     "name": "stdout",
     "output_type": "stream",
     "text": [
      "[[1. 1.]\n",
      " [1. 1.]\n",
      " [1. 1.]]\n"
     ]
    }
   ],
   "source": [
    "a = np.ones( (3,2))\n",
    "print(a)"
   ]
  },
  {
   "cell_type": "code",
   "execution_count": 12,
   "id": "78c521e2",
   "metadata": {},
   "outputs": [
    {
     "name": "stdout",
     "output_type": "stream",
     "text": [
      "[1 2 3 4]\n"
     ]
    }
   ],
   "source": [
    "a = np.arange(1,5)   # arange method works just like the range function in list\n",
    "print(a)"
   ]
  },
  {
   "cell_type": "code",
   "execution_count": 13,
   "id": "3b41fa86",
   "metadata": {},
   "outputs": [
    {
     "name": "stdout",
     "output_type": "stream",
     "text": [
      "[1 3]\n"
     ]
    }
   ],
   "source": [
    "a = np.arange(1,5,2) # the third parameter is the increament value since start value\n",
    "print(a)"
   ]
  },
  {
   "cell_type": "code",
   "execution_count": 14,
   "id": "f392b695",
   "metadata": {},
   "outputs": [
    {
     "name": "stdout",
     "output_type": "stream",
     "text": [
      "[1.         1.21052632 1.42105263 1.63157895 1.84210526 2.05263158\n",
      " 2.26315789 2.47368421 2.68421053 2.89473684 3.10526316 3.31578947\n",
      " 3.52631579 3.73684211 3.94736842 4.15789474 4.36842105 4.57894737\n",
      " 4.78947368 5.        ]\n"
     ]
    }
   ],
   "source": [
    "a = np.linspace(1,5,20)  # linspace create a set of (third parameter) numbers equally divided in the range from start to end \n",
    "print(a)"
   ]
  },
  {
   "cell_type": "code",
   "execution_count": 29,
   "id": "eb0f30a8",
   "metadata": {},
   "outputs": [
    {
     "name": "stdout",
     "output_type": "stream",
     "text": [
      "10\n",
      "60\n",
      "210\n",
      "[ 90 120]\n",
      "[ 30  70 110]\n",
      "[[11 22]\n",
      " [33 44]\n",
      " [55 66]]\n",
      "[[ 9 18]\n",
      " [27 36]\n",
      " [45 54]]\n",
      "[[ 10  40]\n",
      " [ 90 160]\n",
      " [250 360]]\n",
      "[[10. 10.]\n",
      " [10. 10.]\n",
      " [10. 10.]]\n"
     ]
    }
   ],
   "source": [
    "# other important methods\n",
    "a = np.array([ [10,20], [30,40], [50,60] ])\n",
    "print(a.min())\n",
    "print(a.max())\n",
    "print(a.sum())\n",
    "print(a.sum(axis=0))\n",
    "print(a.sum(axis=1))\n",
    "b = np.array([ [1,2], [3,4], [5,6] ])\n",
    "print(a+b)\n",
    "print(a-b)\n",
    "print(a*b)\n",
    "print(a/b)"
   ]
  },
  {
   "cell_type": "code",
   "execution_count": 31,
   "id": "759d0d23",
   "metadata": {},
   "outputs": [
    {
     "name": "stdout",
     "output_type": "stream",
     "text": [
      "[[ 70 100]\n",
      " [150 220]\n",
      " [230 340]]\n"
     ]
    }
   ],
   "source": [
    "b = np.array([ [1,2], [3,4] ])\n",
    "print(a.dot(b))"
   ]
  },
  {
   "cell_type": "markdown",
   "id": "b819813b",
   "metadata": {},
   "source": [
    "## Indexing"
   ]
  },
  {
   "cell_type": "code",
   "execution_count": 17,
   "id": "795a9471",
   "metadata": {},
   "outputs": [
    {
     "name": "stdout",
     "output_type": "stream",
     "text": [
      "[[1 2 3 4]\n",
      " [3 4 5 6]\n",
      " [5 6 7 8]]\n"
     ]
    }
   ],
   "source": [
    "list_1 = [1, 2, 3, 4]\n",
    "list_2 = [3, 4, 5, 6]\n",
    "list_3 = [5, 6, 7 ,8]\n",
    "a = np.array([list_1, list_2, list_3])\n",
    "print(a)"
   ]
  },
  {
   "cell_type": "code",
   "execution_count": 33,
   "id": "8aec3462",
   "metadata": {},
   "outputs": [
    {
     "name": "stdout",
     "output_type": "stream",
     "text": [
      "[[1 2 3 4]\n",
      " [3 4 5 6]\n",
      " [5 6 7 8]]\n"
     ]
    }
   ],
   "source": [
    "print(a[:,:])"
   ]
  },
  {
   "cell_type": "code",
   "execution_count": 34,
   "id": "2915ff34",
   "metadata": {},
   "outputs": [
    {
     "name": "stdout",
     "output_type": "stream",
     "text": [
      "[[1 2 3 4]\n",
      " [3 4 5 6]]\n"
     ]
    }
   ],
   "source": [
    "print(a[0:2,:])"
   ]
  },
  {
   "cell_type": "code",
   "execution_count": 35,
   "id": "95371325",
   "metadata": {},
   "outputs": [
    {
     "name": "stdout",
     "output_type": "stream",
     "text": [
      "[[2 3 4]\n",
      " [4 5 6]]\n"
     ]
    }
   ],
   "source": [
    "print(a[0:2,1:])"
   ]
  },
  {
   "cell_type": "code",
   "execution_count": 28,
   "id": "99dba66f",
   "metadata": {},
   "outputs": [
    {
     "name": "stdout",
     "output_type": "stream",
     "text": [
      "[[5 6 7 8]\n",
      " [3 4 5 6]\n",
      " [1 2 3 4]]\n"
     ]
    }
   ],
   "source": [
    "print(a[::-1])  # reversing an array"
   ]
  },
  {
   "cell_type": "markdown",
   "id": "cff8da17",
   "metadata": {},
   "source": [
    "## Copying an array"
   ]
  },
  {
   "cell_type": "code",
   "execution_count": 55,
   "id": "3073f040",
   "metadata": {},
   "outputs": [
    {
     "name": "stdout",
     "output_type": "stream",
     "text": [
      "[1 2 3 4 5 6 7 8 9]\n",
      "[  1   2 500 500 500 500 500 500 500]\n",
      "[  1   2 500 500 500 500 500 500 500]\n"
     ]
    }
   ],
   "source": [
    "arr_1 = np.array([1,2,3,4,5,6,7,8,9])\n",
    "print(arr_1)\n",
    "arr_2 = arr_1\n",
    "arr_2[2:] = 500\n",
    "print(arr_2)\n",
    "print(arr_1)   # copying in a normal way can cause this issue because in this way they both share the same memory space"
   ]
  },
  {
   "cell_type": "code",
   "execution_count": 56,
   "id": "46754acb",
   "metadata": {},
   "outputs": [
    {
     "name": "stdout",
     "output_type": "stream",
     "text": [
      "[1 2 3 4 5 6 7 8 9]\n",
      "[  1   2 500 500 500 500 500 500 500]\n",
      "[1 2 3 4 5 6 7 8 9]\n"
     ]
    }
   ],
   "source": [
    "arr_1 = np.array([1,2,3,4,5,6,7,8,9])\n",
    "print(arr_1)\n",
    "arr_2 = arr_1.copy()  # this is the solution\n",
    "arr_2[2:] = 500\n",
    "print(arr_2)\n",
    "print(arr_1)"
   ]
  },
  {
   "cell_type": "markdown",
   "id": "f47e128e",
   "metadata": {},
   "source": [
    "## Stacking"
   ]
  },
  {
   "cell_type": "code",
   "execution_count": 29,
   "id": "b7a4ea48",
   "metadata": {},
   "outputs": [
    {
     "name": "stdout",
     "output_type": "stream",
     "text": [
      "[[0 1]\n",
      " [2 3]\n",
      " [4 5]]\n",
      "[[ 6  7]\n",
      " [ 8  9]\n",
      " [10 11]]\n"
     ]
    }
   ],
   "source": [
    "a = np.arange(6).reshape(3,2)\n",
    "b = np.arange(6,12).reshape(3,2)\n",
    "print(a)\n",
    "print(b)"
   ]
  },
  {
   "cell_type": "code",
   "execution_count": 30,
   "id": "f612f88d",
   "metadata": {},
   "outputs": [
    {
     "name": "stdout",
     "output_type": "stream",
     "text": [
      "[[ 0  1]\n",
      " [ 2  3]\n",
      " [ 4  5]\n",
      " [ 6  7]\n",
      " [ 8  9]\n",
      " [10 11]]\n",
      "[[ 0  1  6  7]\n",
      " [ 2  3  8  9]\n",
      " [ 4  5 10 11]]\n"
     ]
    }
   ],
   "source": [
    "print(np.vstack((a,b)))\n",
    "c = np.hstack((a,b))\n",
    "print(c)"
   ]
  },
  {
   "cell_type": "markdown",
   "id": "8d3b62cf",
   "metadata": {},
   "source": [
    "## Splitting"
   ]
  },
  {
   "cell_type": "code",
   "execution_count": 34,
   "id": "96a185a9",
   "metadata": {},
   "outputs": [
    {
     "name": "stdout",
     "output_type": "stream",
     "text": [
      "[[ 0  1  6  7]\n",
      " [ 2  3  8  9]\n",
      " [ 4  5 10 11]]\n",
      "<class 'list'>\n",
      "[[0 1]\n",
      " [2 3]\n",
      " [4 5]]\n",
      "[[ 6  7]\n",
      " [ 8  9]\n",
      " [10 11]]\n",
      "[[0 1 6 7]]\n"
     ]
    }
   ],
   "source": [
    "print(c)\n",
    "result = np.hsplit(c,2)\n",
    "print(type(result))\n",
    "print(result[0])\n",
    "print(result[1])\n",
    "result = np.vsplit(c,3)\n",
    "print(result[0])"
   ]
  },
  {
   "cell_type": "markdown",
   "id": "06de7495",
   "metadata": {},
   "source": [
    "## Indexing with boolean arrays"
   ]
  },
  {
   "cell_type": "code",
   "execution_count": 57,
   "id": "675a7393",
   "metadata": {},
   "outputs": [
    {
     "name": "stdout",
     "output_type": "stream",
     "text": [
      "[[ 0  1  2  3]\n",
      " [ 4  5  6  7]\n",
      " [ 8  9 10 11]]\n"
     ]
    }
   ],
   "source": [
    "a = np.arange(12).reshape(3,4)\n",
    "print(a)"
   ]
  },
  {
   "cell_type": "code",
   "execution_count": 58,
   "id": "b003d7ac",
   "metadata": {},
   "outputs": [
    {
     "name": "stdout",
     "output_type": "stream",
     "text": [
      "[[False False False False]\n",
      " [False  True  True  True]\n",
      " [ True  True  True  True]]\n"
     ]
    }
   ],
   "source": [
    "b = a > 4\n",
    "print(b)"
   ]
  },
  {
   "cell_type": "code",
   "execution_count": 59,
   "id": "fa911180",
   "metadata": {},
   "outputs": [
    {
     "name": "stdout",
     "output_type": "stream",
     "text": [
      "[ 5  6  7  8  9 10 11]\n"
     ]
    }
   ],
   "source": [
    "print(a[b])"
   ]
  },
  {
   "cell_type": "code",
   "execution_count": 60,
   "id": "2075fd87",
   "metadata": {},
   "outputs": [
    {
     "name": "stdout",
     "output_type": "stream",
     "text": [
      "[[ 0  1  2  3]\n",
      " [ 4 -1 -1 -1]\n",
      " [-1 -1 -1 -1]]\n"
     ]
    }
   ],
   "source": [
    "a[b] = -1\n",
    "print(a)"
   ]
  }
 ],
 "metadata": {
  "kernelspec": {
   "display_name": "Python 3 (ipykernel)",
   "language": "python",
   "name": "python3"
  },
  "language_info": {
   "codemirror_mode": {
    "name": "ipython",
    "version": 3
   },
   "file_extension": ".py",
   "mimetype": "text/x-python",
   "name": "python",
   "nbconvert_exporter": "python",
   "pygments_lexer": "ipython3",
   "version": "3.11.5"
  }
 },
 "nbformat": 4,
 "nbformat_minor": 5
}
