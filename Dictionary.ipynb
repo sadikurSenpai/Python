{
 "cells": [
  {
   "cell_type": "code",
   "execution_count": 1,
   "id": "03f4fe6f",
   "metadata": {},
   "outputs": [
    {
     "data": {
      "text/plain": [
       "dict"
      ]
     },
     "execution_count": 1,
     "metadata": {},
     "output_type": "execute_result"
    }
   ],
   "source": [
    "type({}) "
   ]
  },
  {
   "cell_type": "code",
   "execution_count": 2,
   "id": "97a81dca",
   "metadata": {},
   "outputs": [
    {
     "data": {
      "text/plain": [
       "set"
      ]
     },
     "execution_count": 2,
     "metadata": {},
     "output_type": "execute_result"
    }
   ],
   "source": [
    "type({1,2,3})   #inserting single values in curly brace would make a set, not a dictionary"
   ]
  },
  {
   "cell_type": "code",
   "execution_count": 3,
   "id": "758ae1e3",
   "metadata": {},
   "outputs": [
    {
     "name": "stdout",
     "output_type": "stream",
     "text": [
      "{'name': 'sadik', 'id': '211902020'}\n"
     ]
    }
   ],
   "source": [
    "dic_1={'name':'sadik','id':'211902020'}  #declaration\n",
    "print(dic_1)"
   ]
  },
  {
   "cell_type": "code",
   "execution_count": 4,
   "id": "92d55164",
   "metadata": {},
   "outputs": [
    {
     "name": "stdout",
     "output_type": "stream",
     "text": [
      "dict_keys(['name', 'id'])\n"
     ]
    }
   ],
   "source": [
    "print(dic_1.keys())   #to print only the keys"
   ]
  },
  {
   "cell_type": "code",
   "execution_count": 5,
   "id": "e3d99568",
   "metadata": {},
   "outputs": [
    {
     "name": "stdout",
     "output_type": "stream",
     "text": [
      "dict_values(['sadik', '211902020'])\n"
     ]
    }
   ],
   "source": [
    "print(dic_1.values())  #to print only the values"
   ]
  },
  {
   "cell_type": "code",
   "execution_count": 6,
   "id": "2d0e85b7",
   "metadata": {},
   "outputs": [
    {
     "name": "stdout",
     "output_type": "stream",
     "text": [
      "dict_items([('name', 'sadik'), ('id', '211902020')])\n"
     ]
    }
   ],
   "source": [
    "print(dic_1.items())  #to print keys as well as values"
   ]
  },
  {
   "cell_type": "code",
   "execution_count": 7,
   "id": "252856e2",
   "metadata": {},
   "outputs": [
    {
     "name": "stdout",
     "output_type": "stream",
     "text": [
      "name\n",
      "id\n"
     ]
    }
   ],
   "source": [
    "for x in dic_1:   #iterate through dictionary\n",
    "    print(x)"
   ]
  },
  {
   "cell_type": "code",
   "execution_count": 8,
   "id": "1a9137b0",
   "metadata": {},
   "outputs": [
    {
     "name": "stdout",
     "output_type": "stream",
     "text": [
      "sadik\n",
      "211902020\n"
     ]
    }
   ],
   "source": [
    "for x in dic_1.values():\n",
    "    print(x)"
   ]
  },
  {
   "cell_type": "code",
   "execution_count": 9,
   "id": "a53288e3",
   "metadata": {},
   "outputs": [
    {
     "name": "stdout",
     "output_type": "stream",
     "text": [
      "('name', 'sadik')\n",
      "('id', '211902020')\n"
     ]
    }
   ],
   "source": [
    "for x in dic_1.items():\n",
    "    print(x)"
   ]
  },
  {
   "cell_type": "code",
   "execution_count": 10,
   "id": "2c130755",
   "metadata": {},
   "outputs": [
    {
     "name": "stdout",
     "output_type": "stream",
     "text": [
      "sadik\n",
      "211902020\n"
     ]
    }
   ],
   "source": [
    "for x,y in dic_1.items():\n",
    "    print(y)"
   ]
  },
  {
   "cell_type": "code",
   "execution_count": 11,
   "id": "4c89f4c1",
   "metadata": {},
   "outputs": [
    {
     "name": "stdout",
     "output_type": "stream",
     "text": [
      "sadik\n"
     ]
    }
   ],
   "source": [
    "print(dic_1['name'])        # printing techniques"
   ]
  },
  {
   "cell_type": "code",
   "execution_count": 12,
   "id": "92ee3af5",
   "metadata": {},
   "outputs": [
    {
     "data": {
      "text/plain": [
       "'sadik'"
      ]
     },
     "execution_count": 12,
     "metadata": {},
     "output_type": "execute_result"
    }
   ],
   "source": [
    "dic_1.get('name')   "
   ]
  },
  {
   "cell_type": "code",
   "execution_count": 13,
   "id": "ee57e08e",
   "metadata": {},
   "outputs": [
    {
     "name": "stdout",
     "output_type": "stream",
     "text": [
      "None\n"
     ]
    }
   ],
   "source": [
    "print(dic_1.get('phone'))     # get method allow us to work with no keyerror while having no keys matching the input key"
   ]
  },
  {
   "cell_type": "code",
   "execution_count": 14,
   "id": "30009038",
   "metadata": {},
   "outputs": [
    {
     "name": "stdout",
     "output_type": "stream",
     "text": [
      "no phone number is added\n"
     ]
    }
   ],
   "source": [
    "print(dic_1.get('phone','no phone number is added'))"
   ]
  },
  {
   "cell_type": "code",
   "execution_count": 15,
   "id": "4c46d295",
   "metadata": {},
   "outputs": [],
   "source": [
    "dic_1['phone']='01303585751'"
   ]
  },
  {
   "cell_type": "code",
   "execution_count": 16,
   "id": "5352ac55",
   "metadata": {},
   "outputs": [
    {
     "name": "stdout",
     "output_type": "stream",
     "text": [
      "{'name': 'sadik', 'id': '211902020', 'phone': '01303585751'}\n"
     ]
    }
   ],
   "source": [
    "print(dic_1)"
   ]
  },
  {
   "cell_type": "code",
   "execution_count": 17,
   "id": "4919fa01",
   "metadata": {},
   "outputs": [
    {
     "name": "stdout",
     "output_type": "stream",
     "text": [
      "3\n"
     ]
    }
   ],
   "source": [
    "print(len(dic_1))"
   ]
  },
  {
   "cell_type": "code",
   "execution_count": 18,
   "id": "a5f385be",
   "metadata": {},
   "outputs": [
    {
     "name": "stdout",
     "output_type": "stream",
     "text": [
      "{'name': 'Md. Shadikur Rahman Sheam', 'id': '211902020', 'phone': '01303585751'}\n"
     ]
    }
   ],
   "source": [
    "dic_1['name']='Md. Shadikur Rahman Sheam'\n",
    "print(dic_1)"
   ]
  },
  {
   "cell_type": "code",
   "execution_count": 19,
   "id": "2bfeeaeb",
   "metadata": {},
   "outputs": [],
   "source": [
    "dic_1.update({'name':'shadikur','id':'20'})       #update of the values using update method"
   ]
  },
  {
   "cell_type": "code",
   "execution_count": 20,
   "id": "571df64f",
   "metadata": {},
   "outputs": [
    {
     "name": "stdout",
     "output_type": "stream",
     "text": [
      "{'name': 'shadikur', 'id': '20', 'phone': '01303585751'}\n"
     ]
    }
   ],
   "source": [
    "print(dic_1)"
   ]
  },
  {
   "cell_type": "code",
   "execution_count": 21,
   "id": "ff741324",
   "metadata": {},
   "outputs": [
    {
     "name": "stdout",
     "output_type": "stream",
     "text": [
      "{'name': 'shadikur', 'id': '20'}\n"
     ]
    }
   ],
   "source": [
    "del dic_1['phone']\n",
    "print(dic_1)"
   ]
  },
  {
   "cell_type": "code",
   "execution_count": 22,
   "id": "eebb3321",
   "metadata": {},
   "outputs": [
    {
     "name": "stdout",
     "output_type": "stream",
     "text": [
      "Enter the date : 17\n",
      "Enter the month : 08\n",
      "Enter the year : 2001\n",
      "{'dob': '17/08/2001', 'email': 'sadikursiam786@gmail.com'}\n",
      "{'name': 'shadikur', 'id': '20', 'additional_details': {'dob': '17/08/2001', 'email': 'sadikursiam786@gmail.com'}}\n"
     ]
    }
   ],
   "source": [
    "dic_2={}\n",
    "day=input(\"Enter the date : \")\n",
    "month=input(\"Enter the month : \")                      # uses of nested dictionary\n",
    "year=input(\"Enter the year : \")\n",
    "dic_2['dob']=day+'/'+month+'/'+year\n",
    "dic_2['email']=\"sadikursiam786@gmail.com\"\n",
    "print(dic_2)\n",
    "dic_1['additional_details']=dic_2\n",
    "print(dic_1)"
   ]
  },
  {
   "cell_type": "code",
   "execution_count": null,
   "id": "97045ceb",
   "metadata": {},
   "outputs": [],
   "source": []
  }
 ],
 "metadata": {
  "kernelspec": {
   "display_name": "Python 3 (ipykernel)",
   "language": "python",
   "name": "python3"
  },
  "language_info": {
   "codemirror_mode": {
    "name": "ipython",
    "version": 3
   },
   "file_extension": ".py",
   "mimetype": "text/x-python",
   "name": "python",
   "nbconvert_exporter": "python",
   "pygments_lexer": "ipython3",
   "version": "3.11.5"
  }
 },
 "nbformat": 4,
 "nbformat_minor": 5
}
