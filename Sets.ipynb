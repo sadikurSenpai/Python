{
 "cells": [
  {
   "cell_type": "markdown",
   "id": "962d9089",
   "metadata": {},
   "source": [
    "# Sets"
   ]
  },
  {
   "cell_type": "code",
   "execution_count": 1,
   "id": "b9ab0b7d",
   "metadata": {},
   "outputs": [
    {
     "data": {
      "text/plain": [
       "set"
      ]
     },
     "execution_count": 1,
     "metadata": {},
     "output_type": "execute_result"
    }
   ],
   "source": [
    "type({1,2,3}) # empty {} means dictionary, a set means a list but without any duplicate values and with extra features which are not available in lists"
   ]
  },
  {
   "cell_type": "code",
   "execution_count": 2,
   "id": "cfcb4f9d",
   "metadata": {},
   "outputs": [
    {
     "name": "stdout",
     "output_type": "stream",
     "text": [
      "{1, 2, 3}\n"
     ]
    }
   ],
   "source": [
    "s1=set([1,2,3])     # a list can be used as a set using 'set'\n",
    "print(s1)"
   ]
  },
  {
   "cell_type": "code",
   "execution_count": 3,
   "id": "cd98c0cd",
   "metadata": {},
   "outputs": [
    {
     "name": "stdout",
     "output_type": "stream",
     "text": [
      "{1, 2, 3}\n"
     ]
    }
   ],
   "source": [
    "s2={1,2,3}          #another way would be inserting values into curly braces{}\n",
    "print(s2)"
   ]
  },
  {
   "cell_type": "code",
   "execution_count": 5,
   "id": "8109d46b",
   "metadata": {},
   "outputs": [
    {
     "name": "stdout",
     "output_type": "stream",
     "text": [
      "{1, 2, 3, 4}\n"
     ]
    }
   ],
   "source": [
    "s1.add(4)         #adding values\n",
    "print(s1)"
   ]
  },
  {
   "cell_type": "code",
   "execution_count": 6,
   "id": "bb0bdf84",
   "metadata": {},
   "outputs": [
    {
     "name": "stdout",
     "output_type": "stream",
     "text": [
      "{1, 2, 3, 4, 5}\n"
     ]
    }
   ],
   "source": [
    "s1.update([4,5])     #duplicate values won't be added, only the unique ones will be added \n",
    "print(s1)            # for a list of values 'add' won't work, we have to use update"
   ]
  },
  {
   "cell_type": "code",
   "execution_count": 7,
   "id": "aa7ff03c",
   "metadata": {},
   "outputs": [
    {
     "name": "stdout",
     "output_type": "stream",
     "text": [
      "{1, 2, 3, 4, 5}\n"
     ]
    }
   ],
   "source": [
    "s2.update([2,5],s1)  # a set can be updated with other set's value\n",
    "print(s2)"
   ]
  },
  {
   "cell_type": "code",
   "execution_count": 8,
   "id": "158bb097",
   "metadata": {},
   "outputs": [
    {
     "name": "stdout",
     "output_type": "stream",
     "text": [
      "{1, 2, 3, 4}\n"
     ]
    }
   ],
   "source": [
    "s2.remove(5)        # it removes the value from the set but if the value doesn't exist it will throw a keyError\n",
    "print(s2)"
   ]
  },
  {
   "cell_type": "code",
   "execution_count": 9,
   "id": "f59b304d",
   "metadata": {},
   "outputs": [
    {
     "name": "stdout",
     "output_type": "stream",
     "text": [
      "{1, 2, 3, 4}\n"
     ]
    }
   ],
   "source": [
    "s2.discard(5)      # it doesn't throw an error whether the value is in the set or not\n",
    "print(s2)"
   ]
  },
  {
   "cell_type": "code",
   "execution_count": 10,
   "id": "7797cc7e",
   "metadata": {},
   "outputs": [
    {
     "name": "stdout",
     "output_type": "stream",
     "text": [
      "{3}\n"
     ]
    }
   ],
   "source": [
    "# let us declare 3 sets and understand many functions of set\n",
    "set_1={1,2,3}\n",
    "set_2={2,3,4}\n",
    "set_3={3,4,5}\n",
    "set_4=set_1.intersection(set_2,set_3) #intersection means common values\n",
    "print(set_4)"
   ]
  },
  {
   "cell_type": "code",
   "execution_count": 13,
   "id": "41f43359",
   "metadata": {},
   "outputs": [
    {
     "name": "stdout",
     "output_type": "stream",
     "text": [
      "{1}\n",
      "set()\n"
     ]
    }
   ],
   "source": [
    "set_4.clear\n",
    "set_4=set_1.difference(set_2) #difference set1 from set2 means those values of set1 which are not in set2\n",
    "print(set_4)\n",
    "print(set_2.difference(set_1,set_3)) #there will be empty set if the difference works from set2 to set1,set3"
   ]
  },
  {
   "cell_type": "code",
   "execution_count": 14,
   "id": "6e3c9663",
   "metadata": {},
   "outputs": [
    {
     "name": "stdout",
     "output_type": "stream",
     "text": [
      "{1, 4}\n"
     ]
    }
   ],
   "source": [
    "set_4=set_1.symmetric_difference(set_2) #symmetric difference (s1->s2/ s2->s1) shows the different values from both sets\n",
    "print(set_4)"
   ]
  },
  {
   "cell_type": "markdown",
   "id": "528230d6",
   "metadata": {},
   "source": [
    "### Understanding the need of sets in terms of lists"
   ]
  },
  {
   "cell_type": "markdown",
   "id": "6085b385",
   "metadata": {},
   "source": [
    "#### Removing duplicates from a list"
   ]
  },
  {
   "cell_type": "code",
   "execution_count": 15,
   "id": "0a38f213",
   "metadata": {},
   "outputs": [
    {
     "name": "stdout",
     "output_type": "stream",
     "text": [
      "[1, 2, 3, 4]\n"
     ]
    }
   ],
   "source": [
    "id=[1,2,3,3,2,2,1,2,4,2,1]\n",
    "id=list(set(id))\n",
    "print(id)"
   ]
  },
  {
   "cell_type": "markdown",
   "id": "1949cd1f",
   "metadata": {},
   "source": [
    "#### Implementing in multiple lists"
   ]
  },
  {
   "cell_type": "code",
   "execution_count": 16,
   "id": "b5358908",
   "metadata": {},
   "outputs": [
    {
     "name": "stdout",
     "output_type": "stream",
     "text": [
      "{'April', 'Corey'}\n",
      "{'Jenn', 'John', 'Jim'}\n"
     ]
    }
   ],
   "source": [
    "employees = ['Corey', 'Jim', 'Steven', 'April', 'Judy', 'Jenn', 'John', 'Jane']\n",
    "gym_members = ['April', 'John', 'Corey']\n",
    "developers = ['Judy', 'Corey', 'Steven', 'Jane', 'April']\n",
    "\n",
    "#printing those developers who give time in gym too\n",
    "print( set(developers).intersection(gym_members) )\n",
    "\n",
    "#printing those employees who are not developers\n",
    "print( set(employees).difference(developers) )"
   ]
  }
 ],
 "metadata": {
  "kernelspec": {
   "display_name": "Python 3 (ipykernel)",
   "language": "python",
   "name": "python3"
  },
  "language_info": {
   "codemirror_mode": {
    "name": "ipython",
    "version": 3
   },
   "file_extension": ".py",
   "mimetype": "text/x-python",
   "name": "python",
   "nbconvert_exporter": "python",
   "pygments_lexer": "ipython3",
   "version": "3.11.5"
  }
 },
 "nbformat": 4,
 "nbformat_minor": 5
}
