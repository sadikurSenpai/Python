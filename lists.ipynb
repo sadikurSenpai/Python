{
 "cells": [
  {
   "cell_type": "markdown",
   "id": "696ed50d",
   "metadata": {},
   "source": [
    "# Lists"
   ]
  },
  {
   "cell_type": "code",
   "execution_count": 1,
   "id": "4428b223",
   "metadata": {},
   "outputs": [
    {
     "data": {
      "text/plain": [
       "list"
      ]
     },
     "execution_count": 1,
     "metadata": {},
     "output_type": "execute_result"
    }
   ],
   "source": [
    "type([])"
   ]
  },
  {
   "cell_type": "code",
   "execution_count": 2,
   "id": "8012f33c",
   "metadata": {},
   "outputs": [
    {
     "name": "stdout",
     "output_type": "stream",
     "text": [
      "[10, 11, 12, '13', 14, 15]\n"
     ]
    }
   ],
   "source": [
    "# can contain different types of data\n",
    "id=[10,11,12,\"13\",14,15]\n",
    "print(id)"
   ]
  },
  {
   "cell_type": "code",
   "execution_count": 3,
   "id": "55f0c188",
   "metadata": {},
   "outputs": [
    {
     "name": "stdout",
     "output_type": "stream",
     "text": [
      "[10, 11, 12, '13', 14, 15, 16]\n"
     ]
    }
   ],
   "source": [
    "id.append(16) # append means inserting into the tail of the list\n",
    "print(id)"
   ]
  },
  {
   "cell_type": "code",
   "execution_count": 4,
   "id": "6dc81ebd",
   "metadata": {},
   "outputs": [
    {
     "name": "stdout",
     "output_type": "stream",
     "text": [
      "[12, '13', 14]\n"
     ]
    }
   ],
   "source": [
    "print(id[2:5]) # 2:5 means the index range is from 2 to 5 ( excluding 5 )"
   ]
  },
  {
   "cell_type": "code",
   "execution_count": 5,
   "id": "1cd772c0",
   "metadata": {},
   "outputs": [
    {
     "name": "stdout",
     "output_type": "stream",
     "text": [
      "[10, 99, 11, 12, '13', 14, 15, 16]\n"
     ]
    }
   ],
   "source": [
    "id.insert(1,99) # insert can be implemented in any index. here (1,99) is (index,value)\n",
    "print(id)"
   ]
  },
  {
   "cell_type": "code",
   "execution_count": 6,
   "id": "11517247",
   "metadata": {},
   "outputs": [
    {
     "name": "stdout",
     "output_type": "stream",
     "text": [
      "[10, 99, 11, 12, '13', 14, 15, 16, [0.25, 0.35, 0.45]]\n"
     ]
    }
   ],
   "source": [
    "id.append([0.25,0.35,0.45]) # we can also add another list into the existing list, which will make it a nested list\n",
    "print(id)"
   ]
  },
  {
   "cell_type": "code",
   "execution_count": 7,
   "id": "44f91ae7",
   "metadata": {},
   "outputs": [
    {
     "name": "stdout",
     "output_type": "stream",
     "text": [
      "[10, 99, 11, 12, '13', 14, 15, 16, [0.25, 0.35, 0.45], 20, 21, 22, 23]\n"
     ]
    }
   ],
   "source": [
    "# extending means you can extend the existing list by iterating a new list's elements, it won't make the list nested\n",
    "id.extend([20,21,22,23]) \n",
    "print(id)"
   ]
  },
  {
   "cell_type": "code",
   "execution_count": 8,
   "id": "86e2f33d",
   "metadata": {},
   "outputs": [],
   "source": [
    "# there are many built in functions like sum(list), min(list), max(list).. (implement later)\n"
   ]
  },
  {
   "cell_type": "code",
   "execution_count": 9,
   "id": "8ead21b5",
   "metadata": {},
   "outputs": [
    {
     "name": "stdout",
     "output_type": "stream",
     "text": [
      "[10, 99, 11, 12, '13', 14, 15, 16, [0.25, 0.35, 0.45], 20, 21, 22]\n"
     ]
    }
   ],
   "source": [
    "id.pop() # pops up the last elements of the list just like a stack\n",
    "print(id)"
   ]
  },
  {
   "cell_type": "code",
   "execution_count": 10,
   "id": "c8564448",
   "metadata": {},
   "outputs": [
    {
     "name": "stdout",
     "output_type": "stream",
     "text": [
      "[10, 11, 12, '13', 14, 15, 16, [0.25, 0.35, 0.45], 20, 21, 22]\n"
     ]
    }
   ],
   "source": [
    "id.pop(1) # pops up the sepcific indexed value\n",
    "print(id)"
   ]
  },
  {
   "cell_type": "code",
   "execution_count": 11,
   "id": "d6ff7b3f",
   "metadata": {},
   "outputs": [
    {
     "name": "stdout",
     "output_type": "stream",
     "text": [
      "[10, 11, 12, '13', 14, 15, 16, [0.25, 0.35, 0.45], 20, 21, 22, 10]\n"
     ]
    }
   ],
   "source": [
    "id.append(10)\n",
    "print(id)"
   ]
  },
  {
   "cell_type": "code",
   "execution_count": 12,
   "id": "5fa8685a",
   "metadata": {},
   "outputs": [
    {
     "name": "stdout",
     "output_type": "stream",
     "text": [
      "2\n",
      "1\n"
     ]
    }
   ],
   "source": [
    "print(id.count(10)) # it will provide the frequency of that value in the list\n",
    "print(id.index(11,1,5)) # it will return the first occurence (index) of that value, hence we can bound the search in a range [1,5]"
   ]
  },
  {
   "cell_type": "code",
   "execution_count": 13,
   "id": "0a93b448",
   "metadata": {},
   "outputs": [
    {
     "name": "stdout",
     "output_type": "stream",
     "text": [
      "[10, 11, 12, '13', 14, 15, 16, [0.25, 0.35, 0.45], 20, 21, 22, 10, 10, 11, 12, '13', 14, 15, 16, [0.25, 0.35, 0.45], 20, 21, 22, 10]\n"
     ]
    }
   ],
   "source": [
    "print(id*2) # this will occur the append of the same elements again, it is not multiplying each elements by 2"
   ]
  },
  {
   "cell_type": "code",
   "execution_count": 15,
   "id": "b2a9094c",
   "metadata": {},
   "outputs": [
    {
     "name": "stdout",
     "output_type": "stream",
     "text": [
      "[10, 11, 12, '13', 14, 15, 16, [0.25, 0.35, 0.45], 20, 21, 22, 10]\n"
     ]
    }
   ],
   "source": [
    "print(id) # that multiply is not effecting the list permanently, but we can do it manually"
   ]
  },
  {
   "cell_type": "code",
   "execution_count": null,
   "id": "f811d50b",
   "metadata": {},
   "outputs": [],
   "source": []
  }
 ],
 "metadata": {
  "kernelspec": {
   "display_name": "Python 3 (ipykernel)",
   "language": "python",
   "name": "python3"
  },
  "language_info": {
   "codemirror_mode": {
    "name": "ipython",
    "version": 3
   },
   "file_extension": ".py",
   "mimetype": "text/x-python",
   "name": "python",
   "nbconvert_exporter": "python",
   "pygments_lexer": "ipython3",
   "version": "3.11.5"
  }
 },
 "nbformat": 4,
 "nbformat_minor": 5
}
